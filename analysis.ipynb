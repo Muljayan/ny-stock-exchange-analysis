{
 "cells": [
  {
   "attachments": {},
   "cell_type": "markdown",
   "metadata": {},
   "source": []
  },
  {
   "cell_type": "code",
   "execution_count": 3,
   "metadata": {},
   "outputs": [
    {
     "data": {
      "text/plain": [
       "Unnamed: 0                        0\n",
       "Ticker Symbol                     0\n",
       "Period Ending                     0\n",
       "Accounts Payable                  0\n",
       "Accounts Receivable               0\n",
       "                               ... \n",
       "Total Revenue                     0\n",
       "Treasury Stock                    0\n",
       "For Year                        173\n",
       "Earnings Per Share              219\n",
       "Estimated Shares Outstanding    219\n",
       "Length: 79, dtype: int64"
      ]
     },
     "execution_count": 3,
     "metadata": {},
     "output_type": "execute_result"
    }
   ],
   "source": [
    "# import dependencies\n",
    "import pandas as pd\n",
    "import numpy as np\n",
    "import matplotlib.pyplot as plt\n",
    "import seaborn as sns\n",
    "\n",
    "# read data from csv\n",
    "data = pd.read_csv('fundamentals.csv')\n",
    "\n",
    "data.head()\n",
    "\n",
    "# check for null values\n",
    "data.isnull().sum()"
   ]
  }
 ],
 "metadata": {
  "kernelspec": {
   "display_name": "base",
   "language": "python",
   "name": "python3"
  },
  "language_info": {
   "codemirror_mode": {
    "name": "ipython",
    "version": 3
   },
   "file_extension": ".py",
   "mimetype": "text/x-python",
   "name": "python",
   "nbconvert_exporter": "python",
   "pygments_lexer": "ipython3",
   "version": "3.10.9"
  },
  "orig_nbformat": 4
 },
 "nbformat": 4,
 "nbformat_minor": 2
}
